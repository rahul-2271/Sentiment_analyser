{
 "cells": [
  {
   "cell_type": "code",
   "execution_count": 2,
   "id": "e7e57e49",
   "metadata": {},
   "outputs": [],
   "source": [
    "import random\n",
    "class sent:\n",
    "    negative=\"negative\"\n",
    "    positive=\"positive\"\n",
    "    neutral=\"neutral\"\n",
    "\n",
    "class Review:\n",
    "    def __init__(self,text,score):\n",
    "        self.text=text\n",
    "        self.score=score\n",
    "        self.sentiment=self.get_sentiment()\n",
    "    \n",
    "    def get_sentiment(self):\n",
    "        if self.score<=2:\n",
    "            return sent.negative\n",
    "        elif self.score==3:\n",
    "            return sent.neutral\n",
    "        else:\n",
    "            return sent.positive\n",
    "        \n",
    "class reviewcontainer:\n",
    "    def __init__(self,reviews):\n",
    "        self.reviews=reviews\n",
    "    \n",
    "    def get_text(self):\n",
    "        return [x.text for x in self.reviews]\n",
    "    \n",
    "    def get_sentiment(self):\n",
    "        return [x.sentiment for x in self.reviews]\n",
    "    \n",
    "    def evendist(self):\n",
    "        neg=list(filter(lambda x:x.sentiment ==sent.negative,self.reviews))\n",
    "        pos=list(filter(lambda x:x.sentiment==sent.positive,self.reviews))\n",
    "        pos_shrunk=pos[0:len(neg)]\n",
    "        self.reviews=neg+pos_shrunk\n",
    "        random.shuffle(self.reviews)\n",
    "        "
   ]
  },
  {
   "cell_type": "code",
   "execution_count": 8,
   "id": "0c679728",
   "metadata": {},
   "outputs": [
    {
     "data": {
      "text/plain": [
       "'I hoped for Mia to have some peace in this book, but her story is so real and raw.  Broken World was so touching and emotional because you go from Mia\\'s trauma to her trying to cope.  I love the way the story displays how there is no \"just bouncing back\" from being sexually assaulted.  Mia showed us how those demons come for you every day and how sometimes they best you. I was so in the moment with Broken World and hurt with Mia because she was surrounded by people but so alone and I understood her feelings.  I found myself wishing I could give her some of my courage and strength or even just to be there for her.  Thank you Lizzy for putting a great character\\'s voice on a strong subject and making it so that other peoples story may be heard through Mia\\'s.'"
      ]
     },
     "execution_count": 8,
     "metadata": {},
     "output_type": "execute_result"
    }
   ],
   "source": [
    "import json\n",
    "\n",
    "file_name='/Users/rahuld/Desktop/senti project/dataset/Books_small_10000.json'\n",
    "\n",
    "reviews=[]\n",
    "with open(file_name) as f:\n",
    "    for line in f:\n",
    "        review=json.loads(line)\n",
    "        reviews.append(Review(review[\"reviewText\"],review[\"overall\"]))\n",
    "    \n",
    "reviews[5].text\n",
    "\n"
   ]
  },
  {
   "cell_type": "code",
   "execution_count": 9,
   "id": "530dda1d",
   "metadata": {},
   "outputs": [],
   "source": [
    "from sklearn.model_selection import train_test_split"
   ]
  },
  {
   "cell_type": "code",
   "execution_count": 11,
   "id": "5e3ce7bf",
   "metadata": {},
   "outputs": [],
   "source": [
    "from sklearn.model_selection import train_test_split"
   ]
  },
  {
   "cell_type": "code",
   "execution_count": 12,
   "id": "1f4ce904",
   "metadata": {},
   "outputs": [
    {
     "name": "stdout",
     "output_type": "stream",
     "text": [
      "416\n"
     ]
    }
   ],
   "source": [
    "training,test=train_test_split(reviews,test_size=0.33,random_state=42)\n",
    "\n",
    "train_container=reviewcontainer(training)\n",
    "train_container.evendist()\n",
    "test_container=reviewcontainer(test)\n",
    "test_container.evendist()\n",
    "\n",
    "print(len(test_container.reviews))\n",
    "\n"
   ]
  },
  {
   "cell_type": "code",
   "execution_count": 38,
   "id": "fcc7725b",
   "metadata": {},
   "outputs": [
    {
     "data": {
      "text/plain": [
       "436"
      ]
     },
     "execution_count": 38,
     "metadata": {},
     "output_type": "execute_result"
    }
   ],
   "source": [
    "train_x=train_container.get_text()\n",
    "train_y=train_container.get_sentiment()\n",
    "\n",
    "test_x=test_container.get_text()\n",
    "test_y=test_container.get_sentiment()\n",
    "\n",
    "train_y.count(sent.positive)"
   ]
  },
  {
   "cell_type": "code",
   "execution_count": 39,
   "id": "4f207d17",
   "metadata": {},
   "outputs": [
    {
     "name": "stdout",
     "output_type": "stream",
     "text": [
      "  (0, 5419)\t0.08530178322241727\n",
      "  (0, 7976)\t0.029000106915426836\n",
      "  (0, 3177)\t0.03735714942220534\n",
      "  (0, 239)\t0.15312914712021608\n",
      "  (0, 5795)\t0.10226393282077076\n",
      "  (0, 7925)\t0.038461336526862455\n",
      "  (0, 6992)\t0.15312914712021608\n",
      "  (0, 2577)\t0.15312914712021608\n",
      "  (0, 447)\t0.10814643357056843\n",
      "  (0, 3174)\t0.14435808025114097\n",
      "  (0, 2634)\t0.12314067142045099\n",
      "  (0, 2887)\t0.14435808025114097\n",
      "  (0, 5549)\t0.11534199522164675\n",
      "  (0, 7124)\t0.12314067142045099\n",
      "  (0, 569)\t0.051154836427568594\n",
      "  (0, 2069)\t0.1381349092703335\n",
      "  (0, 4264)\t0.07042333914303786\n",
      "  (0, 4963)\t0.15312914712021608\n",
      "  (0, 4982)\t0.05297543379467425\n",
      "  (0, 5408)\t0.03996921656069994\n",
      "  (0, 1895)\t0.1381349092703335\n",
      "  (0, 5224)\t0.12499612807224808\n",
      "  (0, 8627)\t0.13021500449844683\n",
      "  (0, 7951)\t0.05603045980386992\n",
      "  (0, 1805)\t0.10125760660496426\n",
      "  :\t:\n",
      "  (0, 8046)\t0.11831360499515031\n",
      "  (0, 4722)\t0.14014736483637918\n",
      "  (0, 2658)\t0.14559347613971493\n",
      "  (0, 3452)\t0.1512201239650713\n",
      "  (0, 8036)\t0.05944623591481769\n",
      "  (0, 1181)\t0.1699404029983885\n",
      "  (0, 1168)\t0.03951137698209127\n",
      "  (0, 2952)\t0.12602923753972842\n",
      "  (0, 5478)\t0.09440930168955991\n",
      "  (0, 4728)\t0.10125760660496426\n",
      "  (0, 4034)\t0.07098400649493787\n",
      "  (0, 4249)\t0.1095425381260752\n",
      "  (0, 8097)\t0.10125760660496426\n",
      "  (0, 8608)\t0.14942859768882136\n",
      "  (0, 2416)\t0.07387856911829853\n",
      "  (0, 6293)\t0.07782256956207298\n",
      "  (0, 8052)\t0.11245144487740107\n",
      "  (0, 3631)\t0.1735213612033215\n",
      "  (0, 4277)\t0.0629395344597066\n",
      "  (0, 3223)\t0.0753116832852073\n",
      "  (0, 423)\t0.19150054598377478\n",
      "  (0, 991)\t0.031784421687928326\n",
      "  (0, 7929)\t0.18102318374922663\n",
      "  (0, 2688)\t0.07360299707842057\n",
      "  (0, 7982)\t0.12602923753972842\n",
      "[[0. 0. 0. ... 0. 0. 0.]]\n"
     ]
    }
   ],
   "source": [
    "from sklearn.feature_extraction.text import CountVectorizer, TfidfVectorizer\n",
    "\n",
    "vectorizer=TfidfVectorizer()\n",
    "#vectorizer.fit_transform(train_x)\n",
    "\n",
    "train_x_vectors=vectorizer.fit_transform(train_x)\n",
    "test_x_vectors=vectorizer.transform(test_x)\n",
    "print(train_x_vectors[0])\n",
    "print(train_x_vectors[0].toarray())\n"
   ]
  },
  {
   "cell_type": "code",
   "execution_count": 40,
   "id": "d0278bca",
   "metadata": {},
   "outputs": [],
   "source": [
    "###linear svm"
   ]
  },
  {
   "cell_type": "code",
   "execution_count": 41,
   "id": "2fcc930d",
   "metadata": {},
   "outputs": [],
   "source": [
    "from sklearn import svm"
   ]
  },
  {
   "cell_type": "code",
   "execution_count": 42,
   "id": "1f7e7dbb",
   "metadata": {},
   "outputs": [
    {
     "name": "stdout",
     "output_type": "stream",
     "text": [
      "Some people might be able to follow the diet guide lines in this book but I could not.  Requires too many food with which I am not familiar and/or don't like. \n",
      "\n",
      "haven't had the opportunity to open this book.  As it turns out, I have no use for this particular book. can I get a refund. \n",
      "\n",
      "['positive']\n",
      "['positive']\n"
     ]
    }
   ],
   "source": [
    "clf_svm=svm.SVC(kernel=\"linear\")\n",
    "\n",
    "clf_svm.fit(train_x_vectors,train_y)\n",
    "\n",
    "print(test_x[3],\"\\n\")\n",
    "\n",
    "print(train_x[8],\"\\n\")\n",
    "\n",
    "\n",
    "print(clf_svm.predict(test_x_vectors[0]))\n",
    "print(clf_svm.predict(train_x_vectors[0]))\n"
   ]
  },
  {
   "cell_type": "code",
   "execution_count": 43,
   "id": "b4945fc8",
   "metadata": {},
   "outputs": [
    {
     "data": {
      "text/plain": [
       "array(['positive'], dtype='<U8')"
      ]
     },
     "execution_count": 43,
     "metadata": {},
     "output_type": "execute_result"
    }
   ],
   "source": [
    "\n",
    "#decision tree classifier\n",
    "\n",
    "from sklearn.tree import DecisionTreeClassifier\n",
    "\n",
    "clf_dec=DecisionTreeClassifier()\n",
    "clf_dec.fit(train_x_vectors,train_y)\n",
    "\n",
    "clf_dec.predict(test_x_vectors[0])"
   ]
  },
  {
   "cell_type": "code",
   "execution_count": 44,
   "id": "07a9f1d5",
   "metadata": {},
   "outputs": [
    {
     "name": "stdout",
     "output_type": "stream",
     "text": [
      "['positive']\n"
     ]
    }
   ],
   "source": [
    "from sklearn.naive_bayes import GaussianNB\n",
    "import numpy as np\n",
    "\n",
    "clf_gnb = GaussianNB()\n",
    "\n",
    "clf_gnb.fit(train_x_vectors.toarray(), train_y)\n",
    "\n",
    "\n",
    "prediction = clf_gnb.predict(test_x_vectors[0].toarray())\n",
    "print(prediction)"
   ]
  },
  {
   "cell_type": "code",
   "execution_count": 45,
   "id": "98536362",
   "metadata": {},
   "outputs": [
    {
     "data": {
      "text/plain": [
       "array(['positive'], dtype='<U8')"
      ]
     },
     "execution_count": 45,
     "metadata": {},
     "output_type": "execute_result"
    }
   ],
   "source": [
    "from sklearn.linear_model import LogisticRegression\n",
    "\n",
    "clf_log=LogisticRegression()\n",
    "clf_log.fit(train_x_vectors,train_y)\n",
    "clf_log.predict(test_x_vectors[0])"
   ]
  },
  {
   "cell_type": "markdown",
   "id": "56e12d41",
   "metadata": {},
   "source": [
    "# evaluation\n"
   ]
  },
  {
   "cell_type": "code",
   "execution_count": 46,
   "id": "7237943c",
   "metadata": {},
   "outputs": [
    {
     "name": "stdout",
     "output_type": "stream",
     "text": [
      "0.8076923076923077\n"
     ]
    }
   ],
   "source": [
    "print(clf_svm.score(test_x_vectors,test_y))"
   ]
  },
  {
   "cell_type": "code",
   "execution_count": 47,
   "id": "88f442cb",
   "metadata": {},
   "outputs": [
    {
     "name": "stderr",
     "output_type": "stream",
     "text": [
      "/Users/rahuld/opt/anaconda3/lib/python3.9/site-packages/sklearn/metrics/_classification.py:1580: UndefinedMetricWarning: F-score is ill-defined and being set to 0.0 in labels with no true nor predicted samples. Use `zero_division` parameter to control this behavior.\n",
      "  _warn_prf(average, \"true nor predicted\", \"F-score is\", len(true_sum))\n"
     ]
    },
    {
     "data": {
      "text/plain": [
       "array([0.80582524, 0.        , 0.80952381])"
      ]
     },
     "execution_count": 47,
     "metadata": {},
     "output_type": "execute_result"
    }
   ],
   "source": [
    "from sklearn.metrics import f1_score\n",
    "\n",
    "f1_score(test_y,clf_svm.predict(test_x_vectors),average=None,labels=[sent.positive,sent.neutral,sent.negative])\n",
    "\n",
    "#f1_score(test_y,clf_gnb.predict(test_x_vectors.toarray()),average=None,labels=[sent.positive,sent.neutral,sent.negative])\n",
    "\n",
    "\n",
    "\n"
   ]
  },
  {
   "cell_type": "markdown",
   "id": "34a060f6",
   "metadata": {},
   "source": [
    "# tuning our model"
   ]
  },
  {
   "cell_type": "code",
   "execution_count": 48,
   "id": "fdd9a2eb",
   "metadata": {
    "scrolled": true
   },
   "outputs": [
    {
     "name": "stdout",
     "output_type": "stream",
     "text": [
      "GridSearchCV(cv=6, estimator=SVC(),\n",
      "             param_grid={'C': (1, 4, 8, 16, 32, 64),\n",
      "                         'kernel': ('linear', 'rbf')})\n"
     ]
    }
   ],
   "source": [
    "from sklearn.model_selection import GridSearchCV\n",
    "\n",
    "parameters={'kernel':('linear','rbf'),'C':(1,4,8,16,32,64)}\n",
    "\n",
    "svc=svm.SVC()\n",
    "\n",
    "clf=GridSearchCV(svc,parameters,cv=6)\n",
    "clf.fit(train_x_vectors,train_y)\n",
    "\n",
    "\n",
    "print(clf)\n",
    " \n"
   ]
  },
  {
   "cell_type": "code",
   "execution_count": 49,
   "id": "3d75f00b",
   "metadata": {},
   "outputs": [
    {
     "data": {
      "text/plain": [
       "0.8076923076923077"
      ]
     },
     "execution_count": 49,
     "metadata": {},
     "output_type": "execute_result"
    }
   ],
   "source": [
    "clf.score(test_x_vectors,test_y)"
   ]
  },
  {
   "cell_type": "code",
   "execution_count": 50,
   "id": "7e1434e8",
   "metadata": {},
   "outputs": [],
   "source": [
    "import pickle\n",
    "with open('/Users/rahuld/Downloads/telangana_model/review_guesser.pkl','wb')as f:\n",
    "    pickle.dump(clf,f)\n",
    "with open('/Users/rahuld/Downloads/telangana_model/review_guesser.pkl','rb')as f:\n",
    "    loaded_clf=pickle.load(f)\n"
   ]
  },
  {
   "cell_type": "code",
   "execution_count": 51,
   "id": "29c31321",
   "metadata": {},
   "outputs": [
    {
     "name": "stdout",
     "output_type": "stream",
     "text": [
      "I have no idea how I found this book but I suspect I picked it up through one of the online communities I follow. From the very first chapter I knew I'd made a mistake. You can save yourself time and money by reading the teaser chapters or perhaps you'll decided it's for you. The h interviews for a job with the world famous, reclusive author, who has come to live in her small town to get away from the press. She's up against her 2 best friends, who never said anything to her. It's one of the most immature things I've ever read. I felt like the story should have been set in high school. The way the H and h interact throughout the book, is like 2 teenagers, who alternate between talking and not talking to each other. I'm never a fan of a character who is in another relationship whilst the story is developing between the leads. We read about her having sex with her boyfriend near the beginning and the relationship continues through a large part of the book. It was tacky and verged on cheating. Don't even get me started about what happened near the end. I'm not sure how I finished this book and I definitely won't be reading any more of this series.Why 2 stars? Oddly enough the book is not full of grammar and spelling mistakes.\n"
     ]
    },
    {
     "data": {
      "text/plain": [
       "array(['negative'], dtype='<U8')"
      ]
     },
     "execution_count": 51,
     "metadata": {},
     "output_type": "execute_result"
    }
   ],
   "source": [
    "print(test_x[8])\n",
    "\n",
    "loaded_clf.predict(test_x_vectors[8])"
   ]
  },
  {
   "cell_type": "code",
   "execution_count": null,
   "id": "943513dd",
   "metadata": {},
   "outputs": [],
   "source": []
  },
  {
   "cell_type": "code",
   "execution_count": null,
   "id": "150dccbe",
   "metadata": {},
   "outputs": [],
   "source": []
  },
  {
   "cell_type": "code",
   "execution_count": null,
   "id": "f782fb88",
   "metadata": {},
   "outputs": [],
   "source": []
  },
  {
   "cell_type": "code",
   "execution_count": null,
   "id": "4ca02a24",
   "metadata": {},
   "outputs": [],
   "source": []
  },
  {
   "cell_type": "code",
   "execution_count": null,
   "id": "4b3b0b09",
   "metadata": {},
   "outputs": [],
   "source": []
  },
  {
   "cell_type": "code",
   "execution_count": null,
   "id": "57a96d68",
   "metadata": {},
   "outputs": [],
   "source": []
  }
 ],
 "metadata": {
  "kernelspec": {
   "display_name": "Python 3 (ipykernel)",
   "language": "python",
   "name": "python3"
  },
  "language_info": {
   "codemirror_mode": {
    "name": "ipython",
    "version": 3
   },
   "file_extension": ".py",
   "mimetype": "text/x-python",
   "name": "python",
   "nbconvert_exporter": "python",
   "pygments_lexer": "ipython3",
   "version": "3.9.13"
  }
 },
 "nbformat": 4,
 "nbformat_minor": 5
}
